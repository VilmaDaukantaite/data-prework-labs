{
 "cells": [
  {
   "cell_type": "markdown",
   "metadata": {},
   "source": [
    "# Snail and well\n",
    "\n",
    "A snail falls at the bottom of a 125 cm well. Each day the snail rises 30 cm. But at night, while sleeping, slides 20 cm because the walls are wet. How many days does it take to escape from the well?\n",
    "\n",
    "TIP: http://puzzles.nigelcoldwell.co.uk/sixtytwo.htm"
   ]
  },
  {
   "cell_type": "markdown",
   "metadata": {},
   "source": [
    "## Solución"
   ]
  },
  {
   "cell_type": "code",
   "execution_count": 5,
   "metadata": {},
   "outputs": [
    {
     "name": "stdout",
     "output_type": "stream",
     "text": [
      "Days = 11\n"
     ]
    }
   ],
   "source": [
    "# Assign problem data to variables with representative names\n",
    "# well height, daily advance, night retreat, accumulated distance\n",
    "well_height=125\n",
    "daily_advance=30\n",
    "night_retreat=20\n",
    "accumulated_distance=0\n",
    "\n",
    "# Assign 0 to the variable that represents the solution\n",
    "days=0\n",
    "\n",
    "# Write the code that solves the problem\n",
    "while accumulated_distance<well_height:\n",
    "    accumulated_distance=accumulated_distance+daily_advance\n",
    "    days += 1\n",
    "    if accumulated_distance < well_height:\n",
    "        accumulated_distance -= night_retreat\n",
    "\n",
    "# Print the result with print('Days =', days)\n",
    "print(\"Days =\", days)"
   ]
  },
  {
   "cell_type": "markdown",
   "metadata": {},
   "source": [
    "## Goals\n",
    "\n",
    "1. Treatment of variables\n",
    "2. Use of loop **while**\n",
    "3. Use of conditional **if-else**\n",
    "4. Print in console"
   ]
  },
  {
   "cell_type": "markdown",
   "metadata": {},
   "source": [
    "## Bonus\n",
    "The distance traveled by the snail is now defined by a list.\n",
    "```\n",
    "advance_cm = [30, 21, 33, 77, 44, 45, 23, 45, 12, 34, 55]\n",
    "```\n",
    "How long does it take to raise the well?\n",
    "\n",
    "What is its maximum displacement in one day? And its minimum?\n",
    "\n",
    "What is its average speed during the day?\n",
    "\n",
    "What is the standard deviation of its displacement during the day?"
   ]
  },
  {
   "cell_type": "code",
   "execution_count": 20,
   "metadata": {},
   "outputs": [
    {
     "name": "stdout",
     "output_type": "stream",
     "text": [
      "30\n",
      "OMG, the snail is sliding down the well!!\n",
      "31\n",
      "OMG, the snail is sliding down the well!!\n",
      "44\n",
      "OMG, the snail is sliding down the well!!\n",
      "101\n",
      "OMG, the snail is sliding down the well!!\n",
      "125\n",
      "Days = 5\n",
      "[10, 1, 13, 57, 24, 25, 3, 25, -8, 14, 35]\n",
      "-8\n",
      "57\n",
      "38.09090909090909\n",
      "323.8909090909091\n",
      "17.996969441850734\n"
     ]
    }
   ],
   "source": [
    "# Assign problem data to variables with representative names\n",
    "# well height, daily advance, night retreat, accumulated distance\n",
    "well_height = 125\n",
    "advance_cm = [30, 21, 33, 77, 44, 45, 23, 45, 12, 34, 55]\n",
    "night_retreat = 20\n",
    "accumulated_distance = 0\n",
    "\n",
    "# Assign 0 to the variable that represents the solution\n",
    "days = 0\n",
    "\n",
    "# Write the code that solves the problem\n",
    "\n",
    "\n",
    "while accumulated_distance<well_height:\n",
    "    for distance in advance_cm:\n",
    "        accumulated_distance=accumulated_distance+distance\n",
    "        days += 1\n",
    "        print(accumulated_distance)\n",
    "        if accumulated_distance < well_height:\n",
    "            print(\"OMG, the snail is sliding down the well!!\")\n",
    "            accumulated_distance -= night_retreat\n",
    "        else:\n",
    "            break\n",
    "      \n",
    "# Print the result with print('Days =', days)\n",
    "print(\"Days =\", days)\n",
    "\n",
    "# What is its maximum displacement in a day? And its minimum?\n",
    "displacement=[]\n",
    "for d in advance_cm:\n",
    "    new_d=d-night_retreat\n",
    "    displacement.append(new_d)\n",
    "print(displacement)\n",
    "print(min(displacement))\n",
    "print(max(displacement))\n",
    "\n",
    "\n",
    "# What is its average progress?\n",
    "total_days = len(advance_cm)\n",
    "total_distance = sum(advance_cm)\n",
    "avg_progress = total_distance/total_days\n",
    "print(avg_progress)\n",
    "\n",
    "#or\n",
    "\n",
    "\n",
    "\n",
    "# What is the standard deviation of your displacement during the day?\n",
    "variance_sum=0\n",
    "for d in advance_cm:\n",
    "    variance_sum = variance_sum + (d-avg_progress)**2\n",
    "variance=variance_sum/(total_days-1)\n",
    "deviation=variance**(1/2)\n",
    "\n",
    "print(variance)\n",
    "print(deviation)\n"
   ]
  },
  {
   "cell_type": "code",
   "execution_count": null,
   "metadata": {},
   "outputs": [],
   "source": []
  }
 ],
 "metadata": {
  "kernelspec": {
   "display_name": "Python 3",
   "language": "python",
   "name": "python3"
  },
  "language_info": {
   "codemirror_mode": {
    "name": "ipython",
    "version": 3
   },
   "file_extension": ".py",
   "mimetype": "text/x-python",
   "name": "python",
   "nbconvert_exporter": "python",
   "pygments_lexer": "ipython3",
   "version": "3.7.2"
  }
 },
 "nbformat": 4,
 "nbformat_minor": 2
}
