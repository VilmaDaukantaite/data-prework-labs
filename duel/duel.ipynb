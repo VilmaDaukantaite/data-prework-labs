{
 "cells": [
  {
   "cell_type": "markdown",
   "metadata": {},
   "source": [
    "# Duel of sorcerers\n",
    "You are witnessing an epic battle between two powerful sorcerers: Gandalf and Saruman. Each sorcerer has 10 spells of variable power in their mind and they are going to throw them one after the other. The winner of the duel will be the one who wins more of those clashes between spells. Spells are represented as a list of 10 integers whose value equals the power of the spell.\n",
    "```\n",
    "gandalf = [10, 11, 13, 30, 22, 11, 10, 33, 22, 22]\n",
    "saruman = [23, 66, 12, 43, 12, 10, 44, 23, 12, 17]\n",
    "```\n",
    "For example:\n",
    "1. The first clash is won by Saruman: 10 against 23, wins 23\n",
    "2. The second clash wins Saruman: 11 against 66, wins 66\n",
    "3. etc.\n",
    "\n",
    "\n",
    "You will create two variables, one for each sorcerer, where the sum of clashes won will be stored. Depending on which variable is greater at the end of the duel, you will show one of the following three results on the screen:\n",
    "* Gandalf wins\n",
    "* Saruman wins\n",
    "* Tie\n",
    "\n",
    "<img src=\"images/content_lightning_bolt_big.jpg\" width=\"400\">"
   ]
  },
  {
   "cell_type": "markdown",
   "metadata": {},
   "source": [
    "## Solution"
   ]
  },
  {
   "cell_type": "code",
   "execution_count": 10,
   "metadata": {},
   "outputs": [],
   "source": [
    "# Assign spell power lists to variables\n",
    "\n",
    "gandalf=[10, 11, 13, 30, 22, 11, 10, 33, 22, 22]\n",
    "saruman=[23, 66, 12, 43, 12, 10, 44, 23, 12, 17]"
   ]
  },
  {
   "cell_type": "code",
   "execution_count": 11,
   "metadata": {},
   "outputs": [],
   "source": [
    "# Assign 0 to each variable that stores the victories\n",
    "gandalf_win = 0\n",
    "saruman_win = 0"
   ]
  },
  {
   "cell_type": "code",
   "execution_count": 12,
   "metadata": {},
   "outputs": [],
   "source": [
    "# Execution of spell clashes\n",
    "for g, s in zip(gandalf, saruman):\n",
    "    if g > s:\n",
    "        gandalf_win +=1\n",
    "    else:\n",
    "        saruman_win +=1"
   ]
  },
  {
   "cell_type": "code",
   "execution_count": 13,
   "metadata": {},
   "outputs": [
    {
     "name": "stdout",
     "output_type": "stream",
     "text": [
      "Gandalf wins\n"
     ]
    }
   ],
   "source": [
    "# We check who has won, do not forget the possibility of a draw.\n",
    "# Print the result based on the winner.\n",
    "if gandalf_win > saruman_win:\n",
    "    print(\"Gandalf wins\")\n",
    "elif saruman_win > gandalf_win:\n",
    "    print(\"Saruman wins\")\n",
    "else:\n",
    "    print(\"Tie\") \n"
   ]
  },
  {
   "cell_type": "markdown",
   "metadata": {},
   "source": [
    "## Goals\n",
    "\n",
    "1. Treatment of lists\n",
    "2. Use of **for loop**\n",
    "3. Use of conditional **if-elif-else**\n",
    "4. Use of the functions **range(), len()**\n",
    "5. Print"
   ]
  },
  {
   "cell_type": "markdown",
   "metadata": {},
   "source": [
    "## Bonus\n",
    "\n",
    "1. Spells now have a name and there is a dictionary that relates that name to a power.\n",
    "2. A sorcerer wins if he succeeds in winning 3 spell clashes in a row.\n",
    "3. Average of each of the spell lists.\n",
    "4. Standard deviation of each of the spell lists.\n",
    "\n",
    "```\n",
    "POWER = {\n",
    "    'Fireball': 50, \n",
    "    'Lightning bolt': 40, \n",
    "    'Magic arrow': 10, \n",
    "    'Black Tentacles': 25, \n",
    "    'Contagion': 45\n",
    "}\n",
    "\n",
    "gandalf = ['Fireball', 'Lightning bolt', 'Lightning bolt', 'Magic arrow', 'Fireball', \n",
    "           'Magic arrow', 'Lightning bolt', 'Fireball', 'Fireball', 'Fireball']\n",
    "saruman = ['Contagion', 'Contagion', 'Black Tentacles', 'Fireball', 'Black Tentacles', \n",
    "           'Lightning bolt', 'Magic arrow', 'Contagion', 'Magic arrow', 'Magic arrow']\n",
    "```\n",
    "\n",
    "Good luck!"
   ]
  },
  {
   "cell_type": "code",
   "execution_count": 4,
   "metadata": {},
   "outputs": [],
   "source": [
    "# 1. Spells now have a name and there is a dictionary that relates that name to a power.\n",
    "# variables\n",
    "\n",
    "POWER={\n",
    "    'Fireball': 50, \n",
    "    'Lightning bolt': 40, \n",
    "    'Magic arrow': 10, \n",
    "    'Black Tentacles': 25, \n",
    "    'Contagion': 45\n",
    "}\n",
    "\n",
    "gandalf = ['Fireball', 'Lightning bolt', 'Lightning bolt', 'Magic arrow', 'Fireball', \n",
    "           'Magic arrow', 'Lightning bolt', 'Fireball', 'Magic arrow', 'Fireball']\n",
    "saruman = ['Contagion', 'Contagion', 'Black Tentacles', 'Fireball', 'Black Tentacles', \n",
    "           'Lightning bolt', 'Magic arrow', 'Contagion', 'Magic arrow', 'Magic arrow']"
   ]
  },
  {
   "cell_type": "code",
   "execution_count": 5,
   "metadata": {},
   "outputs": [
    {
     "name": "stdout",
     "output_type": "stream",
     "text": [
      "[50, 40, 40, 10, 50, 10, 40, 50, 10, 50]\n",
      "[45, 45, 25, 50, 25, 40, 10, 45, 10, 10]\n"
     ]
    }
   ],
   "source": [
    "# Assign spell power lists to variables\n",
    "gandalf_power = [POWER[k] for k in gandalf if k in POWER]\n",
    "saruman_power = [POWER[k] for k in saruman if k in POWER]\n",
    "print(gandalf_power)\n",
    "print(saruman_power)\n",
    "    \n"
   ]
  },
  {
   "cell_type": "code",
   "execution_count": 13,
   "metadata": {},
   "outputs": [
    {
     "name": "stdout",
     "output_type": "stream",
     "text": [
      "['win', 'loose', 'win', 'loose', 'win', 'loose', 'win', 'win', 'tie', 'win']\n",
      "['loose', 'win', 'loose', 'win', 'loose', 'win', 'loose', 'loose', 'tie', 'loose']\n",
      "False\n",
      "False\n",
      "It's a tie\n"
     ]
    }
   ],
   "source": [
    "# 2. A sorcerer wins if he succeeds in winning 3 spell clashes in a row.\n",
    "gandalf_win=[]\n",
    "saruman_win=[]\n",
    "\n",
    "# Execution of spell clashes\n",
    "for g, s in zip(gandalf_power, saruman_power):\n",
    "    if g > s:\n",
    "        gandalf_win.append(\"win\")\n",
    "        saruman_win.append(\"loose\")\n",
    "    elif g == s:\n",
    "        gandalf_win.append(\"tie\")\n",
    "        saruman_win.append(\"tie\")\n",
    "    else:\n",
    "        gandalf_win.append(\"loose\")\n",
    "        saruman_win.append(\"win\")\n",
    "        \n",
    "print(gandalf_win)\n",
    "print(saruman_win)\n",
    "\n",
    "# check for 3 wins in a row\n",
    "gandalf_meet_condition = any(gandalf_win[i]==gandalf_win[i+1]==gandalf_win[i+2] for i in range(len(gandalf_win)-2))\n",
    "saruman_meet_condition = any(saruman_win[i]==saruman_win[i+1]==saruman_win[i+2] for i in range(len(saruman_win)-2))\n",
    "\n",
    "# check the winner\n",
    "if gandalf_meet_condition == True:\n",
    "    print(\"gandalf wins\")\n",
    "elif saruman_meet_condition == True:\n",
    "    print(\"saruman wins\")\n",
    "else:\n",
    "    print(\"It's a tie\")"
   ]
  },
  {
   "cell_type": "code",
   "execution_count": 33,
   "metadata": {},
   "outputs": [
    {
     "name": "stdout",
     "output_type": "stream",
     "text": [
      "Gandalf average is 35.0\n",
      "Saruman average is 30.5\n"
     ]
    }
   ],
   "source": [
    "# 3. Average of each of the spell lists.\n",
    "gandalf_avg=sum(gandalf_power)/len(gandalf_power)\n",
    "saruman_avg=sum(saruman_power)/len(saruman_power)\n",
    "print(\"Gandalf average is\", gandalf_avg)\n",
    "print(\"Saruman average is\", saruman_avg)\n",
    "\n"
   ]
  },
  {
   "cell_type": "code",
   "execution_count": 35,
   "metadata": {},
   "outputs": [
    {
     "name": "stdout",
     "output_type": "stream",
     "text": [
      "17.795130420052185\n",
      "16.40629960309962\n"
     ]
    }
   ],
   "source": [
    "# 4. Standard deviation of each of the spell lists.\n",
    "gandalf_numerator=0\n",
    "for power in gandalf_power:\n",
    "    gandalf_numerator += (power-gandalf_avg)**2\n",
    "saruman_numerator=0\n",
    "for power in saruman_power:\n",
    "    saruman_numerator += (power-saruman_avg)**2\n",
    "gandalf_varience=gandalf_numerator/(len(gandalf_power)-1)\n",
    "saruman_varience=saruman_numerator/(len(saruman_power)-1)\n",
    "\n",
    "gandalf_std=gandalf_varience**(1/2)\n",
    "saruman_std=saruman_varience**(1/2)\n",
    "print(gandalf_std)\n",
    "print(saruman_std)\n",
    "\n"
   ]
  },
  {
   "cell_type": "code",
   "execution_count": null,
   "metadata": {},
   "outputs": [],
   "source": []
  }
 ],
 "metadata": {
  "kernelspec": {
   "display_name": "Python 3",
   "language": "python",
   "name": "python3"
  },
  "language_info": {
   "codemirror_mode": {
    "name": "ipython",
    "version": 3
   },
   "file_extension": ".py",
   "mimetype": "text/x-python",
   "name": "python",
   "nbconvert_exporter": "python",
   "pygments_lexer": "ipython3",
   "version": "3.7.2"
  }
 },
 "nbformat": 4,
 "nbformat_minor": 2
}
